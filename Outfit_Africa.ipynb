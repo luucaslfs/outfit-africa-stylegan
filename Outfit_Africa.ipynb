{
  "nbformat": 4,
  "nbformat_minor": 0,
  "metadata": {
    "colab": {
      "name": "Outfit_Africa.ipynb",
      "provenance": [],
      "collapsed_sections": []
    },
    "kernelspec": {
      "name": "python3",
      "display_name": "Python 3"
    },
    "language_info": {
      "name": "python"
    },
    "accelerator": "GPU"
  },
  "cells": [
    {
      "cell_type": "markdown",
      "source": [
        "## Setup - Download dos Arquivos"
      ],
      "metadata": {
        "id": "CXP_agogqA3j"
      }
    },
    {
      "cell_type": "code",
      "execution_count": 1,
      "metadata": {
        "colab": {
          "base_uri": "https://localhost:8080/"
        },
        "id": "wWJWUPoUweSb",
        "outputId": "6fff7bf4-0bbe-4d80-d2e2-1d8e7a3c3b45"
      },
      "outputs": [
        {
          "output_type": "stream",
          "name": "stdout",
          "text": [
            "Downloading...\n",
            "From: https://drive.google.com/uc?id=1CD2IEtrvrdG_YKc_Ucrv899RJO8eJfgN\n",
            "To: /content/network-snapshot-000560.pkl\n",
            "100% 280M/280M [00:03<00:00, 88.3MB/s]\n",
            "Downloading...\n",
            "From: https://drive.google.com/uc?id=1t02LjZIyEBan-mcICVIx8M8nKzD9hE3o\n",
            "To: /content/network-snapshot-000320.pkl\n",
            "100% 280M/280M [00:02<00:00, 110MB/s]\n",
            "Downloading...\n",
            "From: https://drive.google.com/uc?id=1dM_rfXMyWOSXZHLtRmIyZYwHzG67TbQU\n",
            "To: /content/network-snapshot-000160.pkl\n",
            "100% 280M/280M [00:01<00:00, 161MB/s]\n"
          ]
        }
      ],
      "source": [
        "apks_ids = [\"1CD2IEtrvrdG_YKc_Ucrv899RJO8eJfgN\",\"1t02LjZIyEBan-mcICVIx8M8nKzD9hE3o\",\"1dM_rfXMyWOSXZHLtRmIyZYwHzG67TbQU\",\"1QRn9JTyFFYSoVDkZ5kZgIV1hnppe5VzG\"]\n",
        "for i in apks_ids:\n",
        "  !gdown --id $i"
      ]
    },
    {
      "cell_type": "code",
      "source": [
        "!nvidia-smi"
      ],
      "metadata": {
        "colab": {
          "base_uri": "https://localhost:8080/"
        },
        "id": "NuyNzhXn3-MR",
        "outputId": "e43839e9-9481-4a19-cdfd-488291292859"
      },
      "execution_count": 3,
      "outputs": [
        {
          "output_type": "stream",
          "name": "stdout",
          "text": [
            "Wed Dec 15 10:41:30 2021       \n",
            "+-----------------------------------------------------------------------------+\n",
            "| NVIDIA-SMI 495.44       Driver Version: 460.32.03    CUDA Version: 11.2     |\n",
            "|-------------------------------+----------------------+----------------------+\n",
            "| GPU  Name        Persistence-M| Bus-Id        Disp.A | Volatile Uncorr. ECC |\n",
            "| Fan  Temp  Perf  Pwr:Usage/Cap|         Memory-Usage | GPU-Util  Compute M. |\n",
            "|                               |                      |               MIG M. |\n",
            "|===============================+======================+======================|\n",
            "|   0  Tesla P100-PCIE...  Off  | 00000000:00:04.0 Off |                    0 |\n",
            "| N/A   43C    P0    29W / 250W |      0MiB / 16280MiB |      0%      Default |\n",
            "|                               |                      |                  N/A |\n",
            "+-------------------------------+----------------------+----------------------+\n",
            "                                                                               \n",
            "+-----------------------------------------------------------------------------+\n",
            "| Processes:                                                                  |\n",
            "|  GPU   GI   CI        PID   Type   Process name                  GPU Memory |\n",
            "|        ID   ID                                                   Usage      |\n",
            "|=============================================================================|\n",
            "|  No running processes found                                                 |\n",
            "+-----------------------------------------------------------------------------+\n"
          ]
        }
      ]
    },
    {
      "cell_type": "code",
      "source": [
        "!pip install ninja\n",
        "!pip install torch==1.8.1 torchvision==0.9.1"
      ],
      "metadata": {
        "colab": {
          "base_uri": "https://localhost:8080/"
        },
        "id": "JPVzlwyU4Eei",
        "outputId": "207806fa-66dc-4f94-9323-97cf3f0175b7"
      },
      "execution_count": 4,
      "outputs": [
        {
          "output_type": "stream",
          "name": "stdout",
          "text": [
            "Collecting ninja\n",
            "  Downloading ninja-1.10.2.3-py2.py3-none-manylinux_2_5_x86_64.manylinux1_x86_64.whl (108 kB)\n",
            "\u001b[?25l\r\u001b[K     |███                             | 10 kB 19.2 MB/s eta 0:00:01\r\u001b[K     |██████                          | 20 kB 22.6 MB/s eta 0:00:01\r\u001b[K     |█████████                       | 30 kB 20.0 MB/s eta 0:00:01\r\u001b[K     |████████████▏                   | 40 kB 17.8 MB/s eta 0:00:01\r\u001b[K     |███████████████▏                | 51 kB 14.7 MB/s eta 0:00:01\r\u001b[K     |██████████████████▏             | 61 kB 13.1 MB/s eta 0:00:01\r\u001b[K     |█████████████████████▏          | 71 kB 12.4 MB/s eta 0:00:01\r\u001b[K     |████████████████████████▎       | 81 kB 13.6 MB/s eta 0:00:01\r\u001b[K     |███████████████████████████▎    | 92 kB 14.2 MB/s eta 0:00:01\r\u001b[K     |██████████████████████████████▎ | 102 kB 11.6 MB/s eta 0:00:01\r\u001b[K     |████████████████████████████████| 108 kB 11.6 MB/s \n",
            "\u001b[?25hInstalling collected packages: ninja\n",
            "Successfully installed ninja-1.10.2.3\n",
            "Collecting torch==1.8.1\n",
            "  Downloading torch-1.8.1-cp37-cp37m-manylinux1_x86_64.whl (804.1 MB)\n",
            "\u001b[K     |████████████████████████████████| 804.1 MB 2.7 kB/s \n",
            "\u001b[?25hCollecting torchvision==0.9.1\n",
            "  Downloading torchvision-0.9.1-cp37-cp37m-manylinux1_x86_64.whl (17.4 MB)\n",
            "\u001b[K     |████████████████████████████████| 17.4 MB 514 kB/s \n",
            "\u001b[?25hRequirement already satisfied: typing-extensions in /usr/local/lib/python3.7/dist-packages (from torch==1.8.1) (3.10.0.2)\n",
            "Requirement already satisfied: numpy in /usr/local/lib/python3.7/dist-packages (from torch==1.8.1) (1.19.5)\n",
            "Requirement already satisfied: pillow>=4.1.1 in /usr/local/lib/python3.7/dist-packages (from torchvision==0.9.1) (7.1.2)\n",
            "Installing collected packages: torch, torchvision\n",
            "  Attempting uninstall: torch\n",
            "    Found existing installation: torch 1.10.0+cu111\n",
            "    Uninstalling torch-1.10.0+cu111:\n",
            "      Successfully uninstalled torch-1.10.0+cu111\n",
            "  Attempting uninstall: torchvision\n",
            "    Found existing installation: torchvision 0.11.1+cu111\n",
            "    Uninstalling torchvision-0.11.1+cu111:\n",
            "      Successfully uninstalled torchvision-0.11.1+cu111\n",
            "\u001b[31mERROR: pip's dependency resolver does not currently take into account all the packages that are installed. This behaviour is the source of the following dependency conflicts.\n",
            "torchtext 0.11.0 requires torch==1.10.0, but you have torch 1.8.1 which is incompatible.\n",
            "torchaudio 0.10.0+cu111 requires torch==1.10.0, but you have torch 1.8.1 which is incompatible.\u001b[0m\n",
            "Successfully installed torch-1.8.1 torchvision-0.9.1\n"
          ]
        }
      ]
    },
    {
      "cell_type": "code",
      "source": [
        "#Estrutura para execucao do stylan GAN. Possui todos os metodos que foram utilizado no treinamento\n",
        "#e permite a execucao da geracao de imagens a partir de um modelo pre-treinado.\n",
        "!git clone https://github.com/NVlabs/stylegan2-ada-pytorch.git\n"
      ],
      "metadata": {
        "colab": {
          "base_uri": "https://localhost:8080/"
        },
        "id": "FYF-_VKwxOic",
        "outputId": "5cfe111d-85ed-4186-810e-68f8516629dd"
      },
      "execution_count": 5,
      "outputs": [
        {
          "output_type": "stream",
          "name": "stdout",
          "text": [
            "Cloning into 'stylegan2-ada-pytorch'...\n",
            "remote: Enumerating objects: 128, done.\u001b[K\n",
            "remote: Total 128 (delta 0), reused 0 (delta 0), pack-reused 128\u001b[K\n",
            "Receiving objects: 100% (128/128), 1.12 MiB | 17.38 MiB/s, done.\n",
            "Resolving deltas: 100% (58/58), done.\n"
          ]
        }
      ]
    },
    {
      "cell_type": "markdown",
      "source": [
        "\n",
        " - stylegan_fashion1600 : Modelo treinado utilizando o dataset FASHION1600\n",
        " - stylegan_fashion1600++: Modelo treinado utilizando o dataset FASHION1600, com transferlearning para um dataset encontrado no keaggle também com tematica AFRO\n",
        " https://www.kaggle.com/fiture99/african-fashion\n",
        " "
      ],
      "metadata": {
        "id": "clO8OCX9omKt"
      }
    },
    {
      "cell_type": "code",
      "source": [
        "#@title Parameters\n",
        "#@markdown Caso deseje gerar mais de uma imagem, colocar no formato \"x,y,...\"\n",
        "\n",
        "model = \"stylegan_fashion1600++\" #@param [\"stylegan_fashion1600\",\"stylegan_fashion1600++\",\"stylegan_fashion_all\"]\n",
        "seed = \"65,18,6,99,0,23,21,12\"#@param \n",
        "\n",
        "print(seed)\n",
        "if model == \"stylegan_fashion1600\":\n",
        "  path_to_model = \"/content/network-snapshot-000320.pkl\"\n",
        "elif model == \"stylegan_fashion1600++\":\n",
        "  path_to_model = \"/content/network-snapshot-000240.pkl\"\n",
        "elif model == \"stylegan_fashion_all\":\n",
        "  path_to_model = \"/content/network-snapshot-000160.pkl\""
      ],
      "metadata": {
        "id": "ipCoBHvI7aeV",
        "colab": {
          "base_uri": "https://localhost:8080/"
        },
        "outputId": "fe05c950-ebe3-4ae0-fc7f-b4e18854342a"
      },
      "execution_count": 10,
      "outputs": [
        {
          "output_type": "stream",
          "name": "stdout",
          "text": [
            "65,18,6,99,0,23,21,12\n"
          ]
        }
      ]
    },
    {
      "cell_type": "markdown",
      "source": [
        "Executar a celula abaixo para gerar uma imagem"
      ],
      "metadata": {
        "id": "PVNHcvlXS4ca"
      }
    },
    {
      "cell_type": "code",
      "source": [
        "%cd /content/stylegan2-ada-pytorch/\n",
        "!python generate.py --outdir=/content/imgs --trunc=1 --seeds=$seed --network=$path_to_model\n"
      ],
      "metadata": {
        "colab": {
          "base_uri": "https://localhost:8080/"
        },
        "id": "xFJR6Fit2aik",
        "outputId": "5ba18b18-8c9e-42b7-9be2-61505ed076da"
      },
      "execution_count": 11,
      "outputs": [
        {
          "output_type": "stream",
          "name": "stdout",
          "text": [
            "/content/stylegan2-ada-pytorch\n",
            "Loading networks from \"/content/network-snapshot-000560.pkl\"...\n",
            "Generating image for seed 65 (0/8) ...\n",
            "Setting up PyTorch plugin \"bias_act_plugin\"... Done.\n",
            "Setting up PyTorch plugin \"upfirdn2d_plugin\"... Done.\n",
            "Generating image for seed 18 (1/8) ...\n",
            "Generating image for seed 6 (2/8) ...\n",
            "Generating image for seed 99 (3/8) ...\n",
            "Generating image for seed 0 (4/8) ...\n",
            "Generating image for seed 23 (5/8) ...\n",
            "Generating image for seed 21 (6/8) ...\n",
            "Generating image for seed 12 (7/8) ...\n"
          ]
        }
      ]
    },
    {
      "cell_type": "code",
      "source": [
        ""
      ],
      "metadata": {
        "id": "-OqhqKYSp-_P"
      },
      "execution_count": null,
      "outputs": []
    },
    {
      "cell_type": "code",
      "source": [
        ""
      ],
      "metadata": {
        "id": "7OwV5Jbg76iC"
      },
      "execution_count": null,
      "outputs": []
    }
  ]
}