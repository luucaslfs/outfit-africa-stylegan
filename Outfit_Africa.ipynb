{
  "nbformat": 4,
  "nbformat_minor": 0,
  "metadata": {
    "colab": {
      "name": "Outfit_Africa.ipynb",
      "provenance": [],
      "collapsed_sections": []
    },
    "kernelspec": {
      "name": "python3",
      "display_name": "Python 3"
    },
    "language_info": {
      "name": "python"
    }
  },
  "cells": [
    {
      "cell_type": "markdown",
      "source": [
        "Setup "
      ],
      "metadata": {
        "id": "CXP_agogqA3j"
      }
    },
    {
      "cell_type": "code",
      "execution_count": 1,
      "metadata": {
        "colab": {
          "base_uri": "https://localhost:8080/"
        },
        "id": "wWJWUPoUweSb",
        "outputId": "3fafb021-ab80-409c-d7ae-2a85c85faef7"
      },
      "outputs": [
        {
          "output_type": "stream",
          "name": "stdout",
          "text": [
            "Mounted at /content/drive\n"
          ]
        }
      ],
      "source": [
        "from google.colab import drive\n",
        "drive.mount('/content/drive')"
      ]
    },
    {
      "cell_type": "code",
      "source": [
        "!nvidia-smi"
      ],
      "metadata": {
        "colab": {
          "base_uri": "https://localhost:8080/"
        },
        "id": "NuyNzhXn3-MR",
        "outputId": "2c2cc3a2-5b0f-4c32-bd36-9d06b61de43e"
      },
      "execution_count": 2,
      "outputs": [
        {
          "output_type": "stream",
          "name": "stdout",
          "text": [
            "Sun Dec 12 13:53:38 2021       \n",
            "+-----------------------------------------------------------------------------+\n",
            "| NVIDIA-SMI 495.44       Driver Version: 460.32.03    CUDA Version: 11.2     |\n",
            "|-------------------------------+----------------------+----------------------+\n",
            "| GPU  Name        Persistence-M| Bus-Id        Disp.A | Volatile Uncorr. ECC |\n",
            "| Fan  Temp  Perf  Pwr:Usage/Cap|         Memory-Usage | GPU-Util  Compute M. |\n",
            "|                               |                      |               MIG M. |\n",
            "|===============================+======================+======================|\n",
            "|   0  Tesla P100-PCIE...  Off  | 00000000:00:04.0 Off |                    0 |\n",
            "| N/A   40C    P0    27W / 250W |      0MiB / 16280MiB |      0%      Default |\n",
            "|                               |                      |                  N/A |\n",
            "+-------------------------------+----------------------+----------------------+\n",
            "                                                                               \n",
            "+-----------------------------------------------------------------------------+\n",
            "| Processes:                                                                  |\n",
            "|  GPU   GI   CI        PID   Type   Process name                  GPU Memory |\n",
            "|        ID   ID                                                   Usage      |\n",
            "|=============================================================================|\n",
            "|  No running processes found                                                 |\n",
            "+-----------------------------------------------------------------------------+\n"
          ]
        }
      ]
    },
    {
      "cell_type": "code",
      "source": [
        "!pip install ninja\n",
        "!pip install torch==1.8.1 torchvision==0.9.1"
      ],
      "metadata": {
        "colab": {
          "base_uri": "https://localhost:8080/"
        },
        "id": "JPVzlwyU4Eei",
        "outputId": "06e9d573-d722-42f4-d892-3c7f83f662ce"
      },
      "execution_count": 3,
      "outputs": [
        {
          "output_type": "stream",
          "name": "stdout",
          "text": [
            "Requirement already satisfied: ninja in /usr/local/lib/python3.7/dist-packages (1.10.2.3)\n",
            "Requirement already satisfied: torch==1.8.1 in /usr/local/lib/python3.7/dist-packages (1.8.1)\n",
            "Requirement already satisfied: torchvision==0.9.1 in /usr/local/lib/python3.7/dist-packages (0.9.1)\n",
            "Requirement already satisfied: numpy in /usr/local/lib/python3.7/dist-packages (from torch==1.8.1) (1.19.5)\n",
            "Requirement already satisfied: typing-extensions in /usr/local/lib/python3.7/dist-packages (from torch==1.8.1) (3.10.0.2)\n",
            "Requirement already satisfied: pillow>=4.1.1 in /usr/local/lib/python3.7/dist-packages (from torchvision==0.9.1) (7.1.2)\n"
          ]
        }
      ]
    },
    {
      "cell_type": "code",
      "source": [
        "#Estrutura para execucao do stylan GAN. Possui todos os metodos que foram utilizado no treinamento\n",
        "#e permite a execucao da geracao de imagens a partir de um modelo pre-treinado.\n",
        "!git clone https://github.com/NVlabs/stylegan2-ada-pytorch.git\n"
      ],
      "metadata": {
        "colab": {
          "base_uri": "https://localhost:8080/"
        },
        "id": "FYF-_VKwxOic",
        "outputId": "b740cb5b-b78b-4ac2-cee1-59bacd51e710"
      },
      "execution_count": 2,
      "outputs": [
        {
          "output_type": "stream",
          "name": "stdout",
          "text": [
            "Cloning into 'stylegan2-ada-pytorch'...\n",
            "remote: Enumerating objects: 128, done.\u001b[K\n",
            "remote: Total 128 (delta 0), reused 0 (delta 0), pack-reused 128\u001b[K\n",
            "Receiving objects: 100% (128/128), 1.12 MiB | 3.57 MiB/s, done.\n",
            "Resolving deltas: 100% (58/58), done.\n"
          ]
        }
      ]
    },
    {
      "cell_type": "code",
      "source": [
        "#Git do grupo com o arquivo pkl do modelo pre-treinado.\n",
        "!git clone https://github.com/luucaslfs/outfit-africa-stylegan.git\n"
      ],
      "metadata": {
        "colab": {
          "base_uri": "https://localhost:8080/"
        },
        "id": "5Im8lvdt3pH1",
        "outputId": "1a8134ba-36c8-4be4-e2d9-3a31713abcf1"
      },
      "execution_count": 3,
      "outputs": [
        {
          "output_type": "stream",
          "name": "stdout",
          "text": [
            "Cloning into 'outfit-africa-stylegan'...\n",
            "remote: Enumerating objects: 15, done.\u001b[K\n",
            "remote: Counting objects: 100% (15/15), done.\u001b[K\n",
            "remote: Compressing objects: 100% (11/11), done.\u001b[K\n",
            "remote: Total 15 (delta 3), reused 5 (delta 0), pack-reused 0\u001b[K\n",
            "Unpacking objects: 100% (15/15), done.\n"
          ]
        }
      ]
    },
    {
      "cell_type": "markdown",
      "source": [
        "Coloque abaixo o caminho da pasta com os arquivos .pkl baixados no link:\n",
        "https://drive.google.com/drive/folders/1h6jq4JgiMag7Xw7i-GyAnQw_e0_38M0J?usp=sharing\n",
        "\n",
        " - stylegan_fashion1600 : Modelo treinado utilizando o dataset FASHION1600\n",
        " - stylegan_fashion1600++: Modelo treinado utilizando o dataset FASHION1600, com transferlearning para um dataset encontrado no keaggle também com tematica AFRO\n",
        " https://www.kaggle.com/fiture99/african-fashion\n",
        " "
      ],
      "metadata": {
        "id": "clO8OCX9omKt"
      }
    },
    {
      "cell_type": "code",
      "source": [
        "path_model = \"CAMINHO AQUI!\""
      ],
      "metadata": {
        "id": "OCI6QyOOqWrV"
      },
      "execution_count": null,
      "outputs": []
    },
    {
      "cell_type": "code",
      "source": [
        "#@title Parameters\n",
        "\n",
        "model = \"stylegan_fashion1600\" #@param [\"stylegan_fashion1600\",\"stylegan_fashion1600++\"]\n",
        "seed = 42#@param {type:\"number\"}\n",
        "\n",
        "path_to_model = \"\"\n",
        "if model = \"stylegan_fashion1600\":\n",
        "  path_to_model = path_model + \"/outfit-africa-stylegan/network-snapshot-000320.pkl\"\n",
        "elif model = \"stylegan_fashion1600++\":\n",
        "  path_to_model = path_model + \"/outfit-africa-stylegan/network-snapshot-000560.pkl\""
      ],
      "metadata": {
        "id": "ipCoBHvI7aeV"
      },
      "execution_count": 4,
      "outputs": []
    },
    {
      "cell_type": "markdown",
      "source": [
        "Executar a celula abaixo para gerar uma imagem"
      ],
      "metadata": {
        "id": "PVNHcvlXS4ca"
      }
    },
    {
      "cell_type": "code",
      "source": [
        "%cd stylegan2-ada-pytorch/\n",
        "!python generate.py --outdir=/content/imgs --trunc=1 --seeds=seed --network=path_to_model\n"
      ],
      "metadata": {
        "colab": {
          "base_uri": "https://localhost:8080/"
        },
        "id": "xFJR6Fit2aik",
        "outputId": "c5f1e256-39f5-4f7f-c59a-4dfc1f5d0094"
      },
      "execution_count": 13,
      "outputs": [
        {
          "output_type": "stream",
          "name": "stdout",
          "text": [
            "[Errno 2] No such file or directory: 'stylegan2-ada-pytorch/'\n",
            "/content/stylegan2-ada-pytorch/stylegan2\n",
            "python3: can't open file 'generate.py': [Errno 2] No such file or directory\n"
          ]
        }
      ]
    },
    {
      "cell_type": "code",
      "source": [
        ""
      ],
      "metadata": {
        "id": "-OqhqKYSp-_P"
      },
      "execution_count": null,
      "outputs": []
    },
    {
      "cell_type": "code",
      "source": [
        ""
      ],
      "metadata": {
        "id": "7OwV5Jbg76iC"
      },
      "execution_count": null,
      "outputs": []
    }
  ]
}